{
  "nbformat": 4,
  "nbformat_minor": 0,
  "metadata": {
    "colab": {
      "provenance": [],
      "toc_visible": true
    },
    "kernelspec": {
      "name": "python3",
      "display_name": "Python 3"
    },
    "language_info": {
      "name": "python"
    }
  },
  "cells": [
    {
      "cell_type": "markdown",
      "source": [
        "# Bible Word Analyser\n",
        "\n",
        "## How to use\n",
        "\n",
        "Enter a strongs number to the text box, and run all cells"
      ],
      "metadata": {
        "id": "80SFENTJQYLt"
      }
    },
    {
      "cell_type": "code",
      "execution_count": 2,
      "metadata": {
        "id": "d8njuonVMZpd",
        "outputId": "0ea5b257-4b2d-4b1f-ce02-2f802ecd2f8f",
        "colab": {
          "base_uri": "https://localhost:8080/"
        }
      },
      "outputs": [
        {
          "output_type": "stream",
          "name": "stdout",
          "text": [
            "Enter a Strong's number: 334\n",
            "You have selected: 334\n"
          ]
        }
      ],
      "source": [
        "strongs_number = input(\"Enter a Strong's number: \")\n",
        "print (\"You have selected: \" + strongs_number)"
      ]
    }
  ]
}