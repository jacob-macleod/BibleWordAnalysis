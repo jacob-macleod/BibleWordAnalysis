{
  "nbformat": 4,
  "nbformat_minor": 0,
  "metadata": {
    "colab": {
      "provenance": []
    },
    "kernelspec": {
      "name": "python3",
      "display_name": "Python 3"
    },
    "language_info": {
      "name": "python"
    }
  },
  "cells": [
    {
      "cell_type": "markdown",
      "source": [
        "# Bible Word Analyser\n",
        "\n",
        "## How to use\n",
        "\n",
        "Enter a strongs number to the text box, and run all cells"
      ],
      "metadata": {
        "id": "80SFENTJQYLt"
      }
    },
    {
      "cell_type": "code",
      "execution_count": null,
      "metadata": {
        "id": "d8njuonVMZpd",
        "outputId": "0ea5b257-4b2d-4b1f-ce02-2f802ecd2f8f",
        "colab": {
          "base_uri": "https://localhost:8080/"
        }
      },
      "outputs": [
        {
          "output_type": "stream",
          "name": "stdout",
          "text": [
            "Enter a Strong's number: 334\n",
            "You have selected: 334\n"
          ]
        }
      ],
      "source": [
        "strongs_number = input(\"Enter a Strong's number: \")\n",
        "print (\"You have selected: \" + strongs_number)"
      ]
    },
    {
      "cell_type": "markdown",
      "source": [
        "# Reading Data\n",
        "\n",
        "## Raw Dataset Info\n",
        " * https://github.com/openscriptures/morphhb/tree/master - hebrew bible with strongs numbers - lemma is the strongs number. XML format, but can be converted to json\n",
        "\n",
        " * https://github.com/openscriptures/HebrewLexicon/tree/master - use this to see what hebrew word is represented by strongs number - XML concordance\n",
        "\n",
        "* https://github.com/openscriptures/GreekResources/tree/master - json with lexicon containing strongs for the Septuagint. Useful, but maybe not needed at this point\n",
        "\n",
        "* https://github.com/openscriptures/strongs/blob/master/greek/strongs-greek-dictionary.js - strongs dictionary for hebrew, and importantly, greek\n",
        "\n",
        "* OpenGNT_BASE_TEXT.zip from https://github.com/eliranwong/OpenGNT/tree/master - stores the greek nt and strongs numbers corresponding to each word"
      ],
      "metadata": {
        "id": "f8ysWGXk03-c"
      }
    },
    {
      "cell_type": "markdown",
      "source": [
        "## Generate dictionary of Hebrew words and strongs numbers"
      ],
      "metadata": {
        "id": "EAsBaK9W2uNC"
      }
    },
    {
      "cell_type": "code",
      "source": [
        "\"\"\"Download the files\"\"\"\n",
        "from urllib.request import urlretrieve\n",
        "import os\n",
        "\n",
        "os.popen(\"mkdir hebrew\")\n",
        "\n",
        "# The names of each hebrew book to download\n",
        "book_names = [\n",
        "    \"1Chr\",\n",
        "    \"1Kgs\",\n",
        "    \"1Sam\",\n",
        "    \"2Chr\",\n",
        "    \"2Kgs\",\n",
        "    \"2Sam\",\n",
        "    \"Amos\",\n",
        "    \"Dan\",\n",
        "    \"Deut\",\n",
        "    \"Eccl\",\n",
        "    \"Esth\",\n",
        "    \"Exod\",\n",
        "    \"Ezek\",\n",
        "    \"Ezra\",\n",
        "    \"Gen\",\n",
        "    \"Hab\",\n",
        "    \"Hag\",\n",
        "    \"Hos\",\n",
        "    \"Isa\",\n",
        "    \"Jer\",\n",
        "    \"Job\",\n",
        "    \"Joel\",\n",
        "    \"Jonah\",\n",
        "    \"Josh\",\n",
        "    \"Judg\",\n",
        "    \"Lam\",\n",
        "    \"Lev\",\n",
        "    \"Mal\",\n",
        "    \"Mic\",\n",
        "    \"Nah\",\n",
        "    \"Neh\",\n",
        "    \"Num\",\n",
        "    \"Obad\",\n",
        "    \"Prov\",\n",
        "    \"Ps\",\n",
        "    \"Ruth\",\n",
        "    \"Song\",\n",
        "    \"Zech\",\n",
        "    \"Zeph\"\n",
        "]\n",
        "\n",
        "# Download each book\n",
        "url = \"https://raw.githubusercontent.com/openscriptures/morphhb/master/wlc/\"\n",
        "filename = \"hebrew/\"\n",
        "\n",
        "for number, book in enumerate(book_names):\n",
        "  print (\"Downloading book \" + str(number+1) + \" of 39: \" + book + \".xml\")\n",
        "  urlretrieve(url + book + \".xml\", filename + book + \".xml\")\n",
        "\n",
        "print (\"\\n\\u001b[32mDownloaded all hebrew books!\\u001b[0m\")\n"
      ],
      "metadata": {
        "colab": {
          "base_uri": "https://localhost:8080/"
        },
        "id": "KGltF5Sg0_GQ",
        "outputId": "16f6c565-2360-4a05-847d-86a055c12b9a"
      },
      "execution_count": 6,
      "outputs": [
        {
          "output_type": "stream",
          "name": "stdout",
          "text": [
            "Downloading book 1 of 39: 1Chr.xml\n",
            "Downloading book 2 of 39: 1Kgs.xml\n",
            "Downloading book 3 of 39: 1Sam.xml\n",
            "Downloading book 4 of 39: 2Chr.xml\n",
            "Downloading book 5 of 39: 2Kgs.xml\n",
            "Downloading book 6 of 39: 2Sam.xml\n",
            "Downloading book 7 of 39: Amos.xml\n",
            "Downloading book 8 of 39: Dan.xml\n",
            "Downloading book 9 of 39: Deut.xml\n",
            "Downloading book 10 of 39: Eccl.xml\n",
            "Downloading book 11 of 39: Esth.xml\n",
            "Downloading book 12 of 39: Exod.xml\n",
            "Downloading book 13 of 39: Ezek.xml\n",
            "Downloading book 14 of 39: Ezra.xml\n",
            "Downloading book 15 of 39: Gen.xml\n",
            "Downloading book 16 of 39: Hab.xml\n",
            "Downloading book 17 of 39: Hag.xml\n",
            "Downloading book 18 of 39: Hos.xml\n",
            "Downloading book 19 of 39: Isa.xml\n",
            "Downloading book 20 of 39: Jer.xml\n",
            "Downloading book 21 of 39: Job.xml\n",
            "Downloading book 22 of 39: Joel.xml\n",
            "Downloading book 23 of 39: Jonah.xml\n",
            "Downloading book 24 of 39: Josh.xml\n",
            "Downloading book 25 of 39: Judg.xml\n",
            "Downloading book 26 of 39: Lam.xml\n",
            "Downloading book 27 of 39: Lev.xml\n",
            "Downloading book 28 of 39: Mal.xml\n",
            "Downloading book 29 of 39: Mic.xml\n",
            "Downloading book 30 of 39: Nah.xml\n",
            "Downloading book 31 of 39: Neh.xml\n",
            "Downloading book 32 of 39: Num.xml\n",
            "Downloading book 33 of 39: Obad.xml\n",
            "Downloading book 34 of 39: Prov.xml\n",
            "Downloading book 35 of 39: Ps.xml\n",
            "Downloading book 36 of 39: Ruth.xml\n",
            "Downloading book 37 of 39: Song.xml\n",
            "Downloading book 38 of 39: Zech.xml\n",
            "Downloading book 39 of 39: Zeph.xml\n",
            "\n",
            "\u001b[32mDownloaded all hebrew books!\u001b[0m\n"
          ]
        }
      ]
    },
    {
      "cell_type": "code",
      "source": [
        "def extract_numbers(lemma):\n",
        "    \"\"\" Convert strongs numbers to only numbers \"\"\"\n",
        "    # Use regular expression to extract numbers\n",
        "    numbers = re.findall(r'\\d+', lemma)\n",
        "    # Join the extracted numbers into a single string\n",
        "    result = ''.join(numbers)\n",
        "    return result\n",
        "\n",
        "def get_verse(verse_id) :\n",
        "  \"\"\" Get the verse from the verse id in format Obad.1.18 \"\"\"\n",
        "  return verse_id.split(\".\")[2]\n",
        "\n",
        "def get_book(verse_id) :\n",
        "  \"\"\" Get the book from the verse id in format Obad.1.18 \"\"\"\n",
        "  return verse_id.split(\".\")[0]\n",
        "\n",
        "def get_chapter(verse_id) :\n",
        "  \"\"\" Get the chapter from the verse id in format Obad.1.18 \"\"\"\n",
        "  return verse_id.split(\".\")[1]"
      ],
      "metadata": {
        "id": "TvBqryF-jucA"
      },
      "execution_count": 43,
      "outputs": []
    },
    {
      "cell_type": "code",
      "source": [
        "# Read all the book data into a dataframe containing: word, strongs, book, chapter, verse\n",
        "import xml.etree.ElementTree as ET\n",
        "import pandas as pd\n",
        "import re\n",
        "\n",
        "data = {\n",
        "    \"word\": [],\n",
        "    \"lemma\": [],\n",
        "    \"book\": [],\n",
        "    \"chapter\": [],\n",
        "    \"verse\": [],\n",
        "}\n",
        "\n",
        "# Parse the XML file\n",
        "for book in book_names:\n",
        "  tree = ET.parse('hebrew/' + book + '.xml')\n",
        "  root = tree.getroot()\n",
        "\n",
        "  # Define the namespace\n",
        "  namespace = {'osis': 'http://www.bibletechnologies.net/2003/OSIS/namespace'}\n",
        "\n",
        "  # Find all word elements within each verse\n",
        "  for verse in root.findall('.//{http://www.bibletechnologies.net/2003/OSIS/namespace}verse'):\n",
        "      verse_id = verse.attrib.get('osisID')\n",
        "      for word in verse.findall('.//{http://www.bibletechnologies.net/2003/OSIS/namespace}w'):\n",
        "          value = word.text\n",
        "          lemma = word.attrib.get('lemma')\n",
        "          data[\"word\"].append(value)\n",
        "          data[\"lemma\"].append(extract_numbers(lemma))\n",
        "          data[\"book\"].append(get_book(verse_id))\n",
        "          data[\"chapter\"].append(get_chapter(verse_id))\n",
        "          data[\"verse\"].append(get_verse(verse_id))\n",
        "\n",
        "hebrew_words = pd.DataFrame(data)\n",
        "\n",
        "print (\"\\n\\u001b[32mValues in each book extracted!\\u001b[0m\")"
      ],
      "metadata": {
        "id": "wsemaRH0eeNC",
        "outputId": "942090ae-8a8b-4624-edd3-97c8a70257df",
        "colab": {
          "base_uri": "https://localhost:8080/"
        }
      },
      "execution_count": 65,
      "outputs": [
        {
          "output_type": "stream",
          "name": "stdout",
          "text": [
            "\n",
            "\u001b[32mValues in each book extracted!\u001b[0m\n"
          ]
        }
      ]
    }
  ]
}