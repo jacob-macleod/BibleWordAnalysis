{
  "nbformat": 4,
  "nbformat_minor": 0,
  "metadata": {
    "colab": {
      "provenance": []
    },
    "kernelspec": {
      "name": "python3",
      "display_name": "Python 3"
    },
    "language_info": {
      "name": "python"
    }
  },
  "cells": [
    {
      "cell_type": "markdown",
      "source": [
        "# Bible Word Analyser\n",
        "\n",
        "## How to use\n",
        "\n",
        "Enter a strongs number to the text box, and run all cells"
      ],
      "metadata": {
        "id": "80SFENTJQYLt"
      }
    },
    {
      "cell_type": "code",
      "execution_count": null,
      "metadata": {
        "id": "d8njuonVMZpd",
        "outputId": "0ea5b257-4b2d-4b1f-ce02-2f802ecd2f8f",
        "colab": {
          "base_uri": "https://localhost:8080/"
        }
      },
      "outputs": [
        {
          "output_type": "stream",
          "name": "stdout",
          "text": [
            "Enter a Strong's number: 334\n",
            "You have selected: 334\n"
          ]
        }
      ],
      "source": [
        "strongs_number = input(\"Enter a Strong's number: \")\n",
        "print (\"You have selected: \" + strongs_number)"
      ]
    },
    {
      "cell_type": "markdown",
      "source": [
        "# Reading Data\n",
        "\n",
        "## Raw Dataset Info\n",
        " * https://github.com/openscriptures/morphhb/tree/master - hebrew bible with strongs numbers - lemma is the strongs number. XML format, but can be converted to json\n",
        "\n",
        " * https://github.com/openscriptures/HebrewLexicon/tree/master - use this to see what hebrew word is represented by strongs number - XML concordance\n",
        "\n",
        "* https://github.com/openscriptures/GreekResources/tree/master - json with lexicon containing strongs for the Septuagint. Useful, but maybe not needed at this point\n",
        "\n",
        "* https://github.com/openscriptures/strongs/blob/master/greek/strongs-greek-dictionary.js - strongs dictionary for hebrew, and importantly, greek\n",
        "\n",
        "* OpenGNT_BASE_TEXT.zip from https://github.com/eliranwong/OpenGNT/tree/master - stores the greek nt and strongs numbers corresponding to each word"
      ],
      "metadata": {
        "id": "f8ysWGXk03-c"
      }
    },
    {
      "cell_type": "markdown",
      "source": [
        "## Generate dictionary of Hebrew words and strongs numbers"
      ],
      "metadata": {
        "id": "EAsBaK9W2uNC"
      }
    },
    {
      "cell_type": "code",
      "source": [
        "\"\"\"Download the files\"\"\"\n",
        "from urllib.request import urlretrieve\n",
        "\n",
        "# The names of each hebrew book to download\n",
        "book_names = [\n",
        "    \"1Chr\",\n",
        "    \"1Kgs\",\n",
        "    \"1Sam\",\n",
        "    \"2Chr\",\n",
        "    \"2Kgs\",\n",
        "    \"2Sam\",\n",
        "    \"Amos\",\n",
        "    \"Dan\",\n",
        "    \"Deut\",\n",
        "    \"Eccl\",\n",
        "    \"Esth\",\n",
        "    \"Exod\",\n",
        "    \"Ezek\",\n",
        "    \"Ezra\",\n",
        "    \"Gen\"\n",
        "]\n",
        "url = \"https://raw.githubusercontent.com/openscriptures/morphhb/master/wlc/Hos.xml\"\n",
        "filename = \"hebrew/file.xml\"\n",
        "urlretrieve(url, filename)"
      ],
      "metadata": {
        "id": "KGltF5Sg0_GQ",
        "outputId": "6ce094b8-e852-480c-bc6b-9ed4b874ea39",
        "colab": {
          "base_uri": "https://localhost:8080/"
        }
      },
      "execution_count": 6,
      "outputs": [
        {
          "output_type": "execute_result",
          "data": {
            "text/plain": [
              "('hebrew/file.xml', <http.client.HTTPMessage at 0x784299f27880>)"
            ]
          },
          "metadata": {},
          "execution_count": 6
        }
      ]
    }
  ]
}