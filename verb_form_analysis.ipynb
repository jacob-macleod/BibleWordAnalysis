{
  "nbformat": 4,
  "nbformat_minor": 0,
  "metadata": {
    "colab": {
      "provenance": [],
      "authorship_tag": "ABX9TyNIQHdNbCxZbpkff4rZVldi"
    },
    "kernelspec": {
      "name": "python3",
      "display_name": "Python 3"
    },
    "language_info": {
      "name": "python"
    }
  },
  "cells": [
    {
      "cell_type": "markdown",
      "source": [
        "# Overall Aim\n",
        "Get most common words in each verb form"
      ],
      "metadata": {
        "id": "ZzzcJscXjLV2"
      }
    },
    {
      "cell_type": "code",
      "execution_count": 1,
      "metadata": {
        "colab": {
          "base_uri": "https://localhost:8080/"
        },
        "id": "r2p88ZRzjAcd",
        "outputId": "72c187c8-fe50-4e2a-c992-53173a86e19c"
      },
      "outputs": [
        {
          "output_type": "stream",
          "name": "stdout",
          "text": [
            "Downloaded: 1Chr.xml\n",
            "Downloaded: 1Kgs.xml\n",
            "Downloaded: 1Sam.xml\n",
            "Downloaded: 2Chr.xml\n",
            "Downloaded: 2Kgs.xml\n",
            "Downloaded: 2Sam.xml\n",
            "Downloaded: Amos.xml\n",
            "Downloaded: Dan.xml\n",
            "Downloaded: Deut.xml\n",
            "Downloaded: Eccl.xml\n",
            "Downloaded: Esth.xml\n",
            "Downloaded: Exod.xml\n",
            "Downloaded: Ezek.xml\n",
            "Downloaded: Ezra.xml\n",
            "Downloaded: Gen.xml\n",
            "Downloaded: Hab.xml\n",
            "Downloaded: Hag.xml\n",
            "Downloaded: Hos.xml\n",
            "Downloaded: Isa.xml\n",
            "Downloaded: Jer.xml\n",
            "Downloaded: Job.xml\n",
            "Downloaded: Joel.xml\n",
            "Downloaded: Jonah.xml\n",
            "Downloaded: Josh.xml\n",
            "Downloaded: Judg.xml\n",
            "Downloaded: Lam.xml\n",
            "Downloaded: Lev.xml\n",
            "Downloaded: Mal.xml\n",
            "Downloaded: Mic.xml\n",
            "Downloaded: Nah.xml\n",
            "Downloaded: Neh.xml\n",
            "Downloaded: Num.xml\n",
            "Downloaded: Obad.xml\n",
            "Downloaded: Prov.xml\n",
            "Downloaded: Ps.xml\n",
            "Downloaded: Ruth.xml\n",
            "Downloaded: Song.xml\n",
            "Downloaded: Zech.xml\n",
            "Downloaded: Zeph.xml\n",
            "Download process completed.\n"
          ]
        }
      ],
      "source": [
        "# Generate the data\n",
        "import os\n",
        "import requests\n",
        "\n",
        "# List of filenames to download\n",
        "filenames = [\n",
        "    \"1Chr.xml\", \"1Kgs.xml\", \"1Sam.xml\", \"2Chr.xml\", \"2Kgs.xml\", \"2Sam.xml\", \"Amos.xml\", \"Dan.xml\", \"Deut.xml\",\n",
        "    \"Eccl.xml\", \"Esth.xml\", \"Exod.xml\", \"Ezek.xml\", \"Ezra.xml\", \"Gen.xml\", \"Hab.xml\", \"Hag.xml\", \"Hos.xml\",\n",
        "    \"Isa.xml\", \"Jer.xml\", \"Job.xml\", \"Joel.xml\", \"Jonah.xml\", \"Josh.xml\", \"Judg.xml\", \"Lam.xml\", \"Lev.xml\",\n",
        "    \"Mal.xml\", \"Mic.xml\", \"Nah.xml\", \"Neh.xml\", \"Num.xml\", \"Obad.xml\", \"Prov.xml\", \"Ps.xml\", \"Ruth.xml\",\n",
        "    \"Song.xml\", \"Zech.xml\", \"Zeph.xml\"\n",
        "]\n",
        "\n",
        "# Base URL\n",
        "base_url = \"https://raw.githubusercontent.com/Clear-Bible/macula-hebrew/refs/heads/main/sources/OpenScriptures/xml/\"\n",
        "\n",
        "# Output directory\n",
        "output_dir = \"downloaded_files\"\n",
        "os.makedirs(output_dir, exist_ok=True)\n",
        "\n",
        "# Download each file\n",
        "for filename in filenames:\n",
        "    url = base_url + filename\n",
        "    response = requests.get(url)\n",
        "\n",
        "    if response.status_code == 200:\n",
        "        file_path = os.path.join(output_dir, filename)\n",
        "        with open(file_path, \"wb\") as file:\n",
        "            file.write(response.content)\n",
        "        print(f\"Downloaded: {filename}\")\n",
        "    else:\n",
        "        print(f\"Failed to download: {filename} (Status Code: {response.status_code})\")\n",
        "\n",
        "print(\"Download process completed.\")\n"
      ]
    },
    {
      "cell_type": "code",
      "source": [
        "# Analyse the Lemma frequencies\n",
        "import xml.etree.ElementTree as ET\n",
        "from collections import Counter\n",
        "\n",
        "# Directory containing XML files\n",
        "input_dir = \"downloaded_files\"\n",
        "\n",
        "# Dictionary to store lemma occurrences\n",
        "lemma_count = Counter()\n",
        "\n",
        "# Function to remove namespaces from tag names\n",
        "def strip_namespace(tag):\n",
        "    return tag.split('}')[-1] if '}' in tag else tag\n",
        "\n",
        "# Process each XML file in the directory\n",
        "for filename in os.listdir(input_dir):\n",
        "    if filename.endswith(\".xml\"):\n",
        "        print(f\"Looking at {filename}\")  # Debugging output\n",
        "        file_path = os.path.join(input_dir, filename)\n",
        "\n",
        "        try:\n",
        "            tree = ET.parse(file_path)\n",
        "            root = tree.getroot()\n",
        "        except ET.ParseError as e:\n",
        "            print(f\"Error parsing {filename}: {e}\")\n",
        "            continue\n",
        "\n",
        "        # Find all <m> tags (handling namespaces if present)\n",
        "        for elem in root.findall(\".//{http://www.bibletechnologies.net/2003/OSIS/namespace}m\"):\n",
        "            # print(f\"Looking at m tag: {ET.tostring(elem, encoding='unicode').strip()}\")  # Debugging output\n",
        "            stem = elem.get(\"stem\")\n",
        "            if stem == \"hiphil\":\n",
        "                lemma = elem.get(\"lemma\", \"\")\n",
        "                lemma_cleaned = \"\".join(filter(str.isdigit, lemma))  # Remove non-numeric characters\n",
        "                if lemma_cleaned:\n",
        "                    lemma_count[lemma_cleaned] += 1\n",
        "\n",
        "# Sort by frequency in descending order\n",
        "sorted_lemmas = lemma_count.most_common(20)\n",
        "\n",
        "# Print top 10 results\n",
        "print(\"Top 10 Lemmas with 'hiphil' Stem:\")\n",
        "for lemma, count in sorted_lemmas:\n",
        "    print(f\"Lemma {lemma}: {count} times\")\n",
        "\n",
        "\n"
      ],
      "metadata": {
        "colab": {
          "base_uri": "https://localhost:8080/"
        },
        "id": "BsZmHXj4mXi6",
        "outputId": "b5c85af9-4664-4d43-ed0c-c0c3018e2db0",
        "collapsed": true
      },
      "execution_count": 8,
      "outputs": [
        {
          "output_type": "stream",
          "name": "stdout",
          "text": [
            "Looking at Isa.xml\n",
            "Looking at Dan.xml\n",
            "Looking at 1Kgs.xml\n",
            "Looking at Zeph.xml\n",
            "Looking at 1Sam.xml\n",
            "Looking at Mic.xml\n",
            "Looking at Song.xml\n",
            "Looking at Josh.xml\n",
            "Looking at Esth.xml\n",
            "Looking at Judg.xml\n",
            "Looking at Prov.xml\n",
            "Looking at Lev.xml\n",
            "Looking at Ruth.xml\n",
            "Looking at Joel.xml\n",
            "Looking at Eccl.xml\n",
            "Looking at 2Sam.xml\n",
            "Looking at Obad.xml\n",
            "Looking at 2Chr.xml\n",
            "Looking at Num.xml\n",
            "Looking at mapping_file.xml\n",
            "Looking at Amos.xml\n",
            "Looking at Lam.xml\n",
            "Looking at 1Chr.xml\n",
            "Looking at Neh.xml\n",
            "Looking at 2Kgs.xml\n",
            "Looking at Deut.xml\n",
            "Looking at Zech.xml\n",
            "Looking at Ps.xml\n",
            "Looking at Ezek.xml\n",
            "Looking at Nah.xml\n",
            "Looking at Jer.xml\n",
            "Looking at Hos.xml\n",
            "Looking at Hag.xml\n",
            "Looking at Ezra.xml\n",
            "Looking at Exod.xml\n",
            "Looking at Hab.xml\n",
            "Looking at Jonah.xml\n",
            "Looking at Gen.xml\n",
            "Looking at Job.xml\n",
            "Looking at Mal.xml\n",
            "Top 10 Lemmas with 'hiphil' Stem:\n",
            "Lemma 935: 549 times\n",
            "Lemma 5221: 481 times\n",
            "Lemma 7725: 358 times\n",
            "Lemma 5046: 335 times\n",
            "Lemma 3318: 276 times\n",
            "Lemma 5927: 258 times\n",
            "Lemma 5337: 191 times\n",
            "Lemma 3467: 184 times\n",
            "Lemma 7126: 177 times\n",
            "Lemma 3205: 176 times\n",
            "Lemma 3254: 173 times\n",
            "Lemma 7235: 162 times\n",
            "Lemma 6965: 146 times\n",
            "Lemma 4191: 138 times\n",
            "Lemma 5493: 133 times\n",
            "Lemma 2388: 117 times\n",
            "Lemma 7993: 112 times\n",
            "Lemma 3559: 108 times\n",
            "Lemma 3034: 100 times\n",
            "Lemma 7843: 96 times\n"
          ]
        }
      ]
    },
    {
      "cell_type": "code",
      "source": [
        "# Download strongs to root mapping\n",
        "mapping_file = \"https://raw.githubusercontent.com/openscriptures/HebrewLexicon/refs/heads/master/HebrewStrong.xml\"\n",
        "\n",
        "lexicon_file = \"mapping_file.xml\"\n",
        "response = requests.get(mapping_file)\n",
        "\n",
        "if response.status_code == 200:\n",
        "    file_path = os.path.join(output_dir, lexicon_file)\n",
        "    with open(file_path, \"wb\") as file:\n",
        "        file.write(response.content)"
      ],
      "metadata": {
        "id": "C2YgJH0SqnDu"
      },
      "execution_count": 9,
      "outputs": []
    },
    {
      "cell_type": "code",
      "source": [
        "def load_lexicon():\n",
        "    lexicon_map = {}\n",
        "    try:\n",
        "        tree = ET.parse(os.path.join(output_dir, lexicon_file))\n",
        "        root = tree.getroot()\n",
        "\n",
        "        for entry in root.findall(\".//{http://openscriptures.github.com/morphhb/namespace}entry\"):\n",
        "            lemma_id = entry.get(\"id\")  # e.g., \"H1\"\n",
        "            w_tag = entry.find(\"{http://openscriptures.github.com/morphhb/namespace}w\")\n",
        "            if lemma_id and w_tag is not None:\n",
        "                lexicon_map[lemma_id[1:]] = w_tag.text  # Remove 'H' prefix\n",
        "    except ET.ParseError as e:\n",
        "        print(f\"Error parsing lexicon: {e}\")\n",
        "    return lexicon_map\n",
        "\n",
        "lexicon_map = load_lexicon()\n",
        "\n",
        "print(\"Top 10 Lemmas with 'hiphil' Stem and Their Roots:\")\n",
        "for lemma, count in sorted_lemmas:\n",
        "    root_word = lexicon_map.get(lemma, \"Unknown Root\")\n",
        "    print(f\"Lemma {lemma} (Root: {root_word}): {count} times\")"
      ],
      "metadata": {
        "colab": {
          "base_uri": "https://localhost:8080/"
        },
        "id": "1x_rCBwCrmSd",
        "outputId": "a7b8dd7b-6d42-4fdd-c45f-2146d695f11c"
      },
      "execution_count": 10,
      "outputs": [
        {
          "output_type": "stream",
          "name": "stdout",
          "text": [
            "Top 10 Lemmas with 'hiphil' Stem and Their Roots:\n",
            "Lemma 935 (Root: בּוֹא): 549 times\n",
            "Lemma 5221 (Root: נָכָה): 481 times\n",
            "Lemma 7725 (Root: שׁוּב): 358 times\n",
            "Lemma 5046 (Root: נָגַד): 335 times\n",
            "Lemma 3318 (Root: יָצָא): 276 times\n",
            "Lemma 5927 (Root: עָלָה): 258 times\n",
            "Lemma 5337 (Root: נָצַל): 191 times\n",
            "Lemma 3467 (Root: יָשַׁע): 184 times\n",
            "Lemma 7126 (Root: קָרַב): 177 times\n",
            "Lemma 3205 (Root: יָלַד): 176 times\n",
            "Lemma 3254 (Root: יָסַף): 173 times\n",
            "Lemma 7235 (Root: רָבָה): 162 times\n",
            "Lemma 6965 (Root: קוּם): 146 times\n",
            "Lemma 4191 (Root: מוּת): 138 times\n",
            "Lemma 5493 (Root: סוּר): 133 times\n",
            "Lemma 2388 (Root: חָזַק): 117 times\n",
            "Lemma 7993 (Root: שָׁלַךְ): 112 times\n",
            "Lemma 3559 (Root: כּוּן): 108 times\n",
            "Lemma 3034 (Root: יָדָה): 100 times\n",
            "Lemma 7843 (Root: שָׁחַת): 96 times\n"
          ]
        }
      ]
    }
  ]
}